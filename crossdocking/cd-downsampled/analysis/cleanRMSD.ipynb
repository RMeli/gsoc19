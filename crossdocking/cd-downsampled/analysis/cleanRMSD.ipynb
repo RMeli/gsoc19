{
 "cells": [
  {
   "cell_type": "markdown",
   "metadata": {},
   "source": [
    "# Docking"
   ]
  },
  {
   "cell_type": "markdown",
   "metadata": {},
   "source": [
    "Analysis of flexible docking calculations with GNINA with the Vina scoring function."
   ]
  },
  {
   "cell_type": "code",
   "execution_count": 1,
   "metadata": {},
   "outputs": [],
   "source": [
    "import pandas as pd\n",
    "import numpy as np\n",
    "\n",
    "import seaborn as sns"
   ]
  },
  {
   "cell_type": "markdown",
   "metadata": {},
   "source": [
    "## Data"
   ]
  },
  {
   "cell_type": "markdown",
   "metadata": {},
   "source": [
    "RMSDs was computed for each system separately and have been collected into a single file:"
   ]
  },
  {
   "cell_type": "code",
   "execution_count": 2,
   "metadata": {},
   "outputs": [],
   "source": [
    "rmsd_file = \"../carlos_cd/rmsds2.csv\""
   ]
  },
  {
   "cell_type": "code",
   "execution_count": 3,
   "metadata": {},
   "outputs": [
    {
     "data": {
      "text/html": [
       "<div>\n",
       "<style scoped>\n",
       "    .dataframe tbody tr th:only-of-type {\n",
       "        vertical-align: middle;\n",
       "    }\n",
       "\n",
       "    .dataframe tbody tr th {\n",
       "        vertical-align: top;\n",
       "    }\n",
       "\n",
       "    .dataframe thead th {\n",
       "        text-align: right;\n",
       "    }\n",
       "</style>\n",
       "<table border=\"1\" class=\"dataframe\">\n",
       "  <thead>\n",
       "    <tr style=\"text-align: right;\">\n",
       "      <th></th>\n",
       "      <th>pocket</th>\n",
       "      <th>protein</th>\n",
       "      <th>ligand</th>\n",
       "      <th>rank</th>\n",
       "      <th>rmsd</th>\n",
       "      <th>obrmsd</th>\n",
       "      <th>flexrmsd</th>\n",
       "      <th>fmaxrmsd</th>\n",
       "      <th>score</th>\n",
       "    </tr>\n",
       "  </thead>\n",
       "  <tbody>\n",
       "    <tr>\n",
       "      <th>0</th>\n",
       "      <td>AA2AR</td>\n",
       "      <td>3EML</td>\n",
       "      <td>3QAK</td>\n",
       "      <td>0</td>\n",
       "      <td>2.22358</td>\n",
       "      <td>2.22358</td>\n",
       "      <td>2.30279</td>\n",
       "      <td>4.99695</td>\n",
       "      <td>-9.13664</td>\n",
       "    </tr>\n",
       "    <tr>\n",
       "      <th>1</th>\n",
       "      <td>AA2AR</td>\n",
       "      <td>3EML</td>\n",
       "      <td>3QAK</td>\n",
       "      <td>10</td>\n",
       "      <td>3.25554</td>\n",
       "      <td>3.25554</td>\n",
       "      <td>2.45832</td>\n",
       "      <td>4.41412</td>\n",
       "      <td>-12.32127</td>\n",
       "    </tr>\n",
       "    <tr>\n",
       "      <th>2</th>\n",
       "      <td>AA2AR</td>\n",
       "      <td>3EML</td>\n",
       "      <td>3QAK</td>\n",
       "      <td>11</td>\n",
       "      <td>2.51549</td>\n",
       "      <td>2.51549</td>\n",
       "      <td>2.36026</td>\n",
       "      <td>3.85305</td>\n",
       "      <td>-12.21410</td>\n",
       "    </tr>\n",
       "    <tr>\n",
       "      <th>3</th>\n",
       "      <td>AA2AR</td>\n",
       "      <td>3EML</td>\n",
       "      <td>3QAK</td>\n",
       "      <td>12</td>\n",
       "      <td>6.50215</td>\n",
       "      <td>6.50215</td>\n",
       "      <td>2.35526</td>\n",
       "      <td>4.50800</td>\n",
       "      <td>-12.17950</td>\n",
       "    </tr>\n",
       "    <tr>\n",
       "      <th>4</th>\n",
       "      <td>AA2AR</td>\n",
       "      <td>3EML</td>\n",
       "      <td>3QAK</td>\n",
       "      <td>13</td>\n",
       "      <td>10.29577</td>\n",
       "      <td>10.29580</td>\n",
       "      <td>2.31750</td>\n",
       "      <td>5.05064</td>\n",
       "      <td>-12.05803</td>\n",
       "    </tr>\n",
       "    <tr>\n",
       "      <th>...</th>\n",
       "      <td>...</td>\n",
       "      <td>...</td>\n",
       "      <td>...</td>\n",
       "      <td>...</td>\n",
       "      <td>...</td>\n",
       "      <td>...</td>\n",
       "      <td>...</td>\n",
       "      <td>...</td>\n",
       "      <td>...</td>\n",
       "    </tr>\n",
       "    <tr>\n",
       "      <th>166385</th>\n",
       "      <td>XIAP</td>\n",
       "      <td>5C84</td>\n",
       "      <td>4KMP</td>\n",
       "      <td>5</td>\n",
       "      <td>9.60539</td>\n",
       "      <td>9.60539</td>\n",
       "      <td>1.61861</td>\n",
       "      <td>2.28624</td>\n",
       "      <td>-7.57331</td>\n",
       "    </tr>\n",
       "    <tr>\n",
       "      <th>166386</th>\n",
       "      <td>XIAP</td>\n",
       "      <td>5C84</td>\n",
       "      <td>4KMP</td>\n",
       "      <td>6</td>\n",
       "      <td>8.41238</td>\n",
       "      <td>8.41238</td>\n",
       "      <td>1.41767</td>\n",
       "      <td>2.26065</td>\n",
       "      <td>-7.51172</td>\n",
       "    </tr>\n",
       "    <tr>\n",
       "      <th>166387</th>\n",
       "      <td>XIAP</td>\n",
       "      <td>5C84</td>\n",
       "      <td>4KMP</td>\n",
       "      <td>7</td>\n",
       "      <td>6.88340</td>\n",
       "      <td>6.88340</td>\n",
       "      <td>1.24734</td>\n",
       "      <td>2.14065</td>\n",
       "      <td>-7.40088</td>\n",
       "    </tr>\n",
       "    <tr>\n",
       "      <th>166388</th>\n",
       "      <td>XIAP</td>\n",
       "      <td>5C84</td>\n",
       "      <td>4KMP</td>\n",
       "      <td>8</td>\n",
       "      <td>5.19961</td>\n",
       "      <td>5.19961</td>\n",
       "      <td>2.02988</td>\n",
       "      <td>2.79305</td>\n",
       "      <td>-7.32203</td>\n",
       "    </tr>\n",
       "    <tr>\n",
       "      <th>166389</th>\n",
       "      <td>XIAP</td>\n",
       "      <td>5C84</td>\n",
       "      <td>4KMP</td>\n",
       "      <td>9</td>\n",
       "      <td>7.73699</td>\n",
       "      <td>7.73699</td>\n",
       "      <td>1.85116</td>\n",
       "      <td>2.69897</td>\n",
       "      <td>-7.31641</td>\n",
       "    </tr>\n",
       "  </tbody>\n",
       "</table>\n",
       "<p>166390 rows × 9 columns</p>\n",
       "</div>"
      ],
      "text/plain": [
       "       pocket protein ligand  rank      rmsd    obrmsd  flexrmsd  fmaxrmsd  \\\n",
       "0       AA2AR    3EML   3QAK     0   2.22358   2.22358   2.30279   4.99695   \n",
       "1       AA2AR    3EML   3QAK    10   3.25554   3.25554   2.45832   4.41412   \n",
       "2       AA2AR    3EML   3QAK    11   2.51549   2.51549   2.36026   3.85305   \n",
       "3       AA2AR    3EML   3QAK    12   6.50215   6.50215   2.35526   4.50800   \n",
       "4       AA2AR    3EML   3QAK    13  10.29577  10.29580   2.31750   5.05064   \n",
       "...       ...     ...    ...   ...       ...       ...       ...       ...   \n",
       "166385   XIAP    5C84   4KMP     5   9.60539   9.60539   1.61861   2.28624   \n",
       "166386   XIAP    5C84   4KMP     6   8.41238   8.41238   1.41767   2.26065   \n",
       "166387   XIAP    5C84   4KMP     7   6.88340   6.88340   1.24734   2.14065   \n",
       "166388   XIAP    5C84   4KMP     8   5.19961   5.19961   2.02988   2.79305   \n",
       "166389   XIAP    5C84   4KMP     9   7.73699   7.73699   1.85116   2.69897   \n",
       "\n",
       "           score  \n",
       "0       -9.13664  \n",
       "1      -12.32127  \n",
       "2      -12.21410  \n",
       "3      -12.17950  \n",
       "4      -12.05803  \n",
       "...          ...  \n",
       "166385  -7.57331  \n",
       "166386  -7.51172  \n",
       "166387  -7.40088  \n",
       "166388  -7.32203  \n",
       "166389  -7.31641  \n",
       "\n",
       "[166390 rows x 9 columns]"
      ]
     },
     "execution_count": 3,
     "metadata": {},
     "output_type": "execute_result"
    }
   ],
   "source": [
    "df = pd.read_csv(rmsd_file)\n",
    "df"
   ]
  },
  {
   "cell_type": "markdown",
   "metadata": {},
   "source": [
    "Check that the number of systems is the expected number (`7970`):"
   ]
  },
  {
   "cell_type": "code",
   "execution_count": 4,
   "metadata": {},
   "outputs": [
    {
     "name": "stdout",
     "output_type": "stream",
     "text": [
      "7970\n"
     ]
    }
   ],
   "source": [
    "# Get tuples from [pocket, ligand, protein] and count unique tuples\n",
    "# Check that the number of unique tuples equals the total number protein-ligand pairs\n",
    "allsystems = pd.unique(df[[\"pocket\", \"ligand\", \"protein\"]].apply(tuple,axis=\"columns\"))\n",
    "print(len(allsystems))\n",
    "assert len(allsystems) == 7970"
   ]
  },
  {
   "cell_type": "markdown",
   "metadata": {},
   "source": [
    "Drop all rows with `NaN` values:"
   ]
  },
  {
   "cell_type": "code",
   "execution_count": 5,
   "metadata": {},
   "outputs": [
    {
     "data": {
      "text/plain": [
       "7943"
      ]
     },
     "execution_count": 5,
     "metadata": {},
     "output_type": "execute_result"
    }
   ],
   "source": [
    "df_clean = df.dropna()\n",
    "systems = pd.unique(df_clean[[\"pocket\", \"ligand\", \"protein\"]].apply(tuple,axis=\"columns\"))\n",
    "len(systems)"
   ]
  },
  {
   "cell_type": "markdown",
   "metadata": {},
   "source": [
    "Some systems have `NaN` values. We expect the systems in `invalid.lst` to contain `NaN` values since there are no flexible residues. In order to see which systems contained `NaN` we can take the difference between the two sets of systems:"
   ]
  },
  {
   "cell_type": "code",
   "execution_count": 6,
   "metadata": {},
   "outputs": [
    {
     "data": {
      "text/plain": [
       "{('ACES', '1ACJ', '1JJB'),\n",
       " ('ACES', '1ZGB', '1JJB'),\n",
       " ('ACES', '2CMF', '1JJB'),\n",
       " ('CDK2', '3IG7', '3QQJ'),\n",
       " ('HXK4', '3S41', '4DCH'),\n",
       " ('HXK4', '4NO7', '4DCH'),\n",
       " ('IGF1R', '1JQH', '5FXR'),\n",
       " ('IGF1R', '2OJ9', '5FXR'),\n",
       " ('IGF1R', '2ZM3', '5FXR'),\n",
       " ('IGF1R', '3LVP', '5FXR'),\n",
       " ('IGF1R', '3NW6', '5FXR'),\n",
       " ('IGF1R', '3NW7', '5FXR'),\n",
       " ('JAK2', '4D0W', '4F08'),\n",
       " ('JAK2', '4E4M', '4F08'),\n",
       " ('JAK2', '5CF6', '4F08'),\n",
       " ('MET', '5HOA', '3CCN'),\n",
       " ('MK01', '4FV2', '4GSB'),\n",
       " ('MK01', '4ZZM', '4GSB'),\n",
       " ('MK01', '5LCJ', '4GSB'),\n",
       " ('MK01', '5NHV', '4GSB'),\n",
       " ('MK10', '2G01', '1UKI'),\n",
       " ('MK10', '3ELJ', '1UKI'),\n",
       " ('MK10', '3RTP', '1UKI'),\n",
       " ('MK10', '4L7F', '4HYS'),\n",
       " ('SRC', '3DQX', '3UQG'),\n",
       " ('SRC', '5D10', '3UQG'),\n",
       " ('SRC', '5J5S', '3UQG')}"
      ]
     },
     "execution_count": 6,
     "metadata": {},
     "output_type": "execute_result"
    }
   ],
   "source": [
    "diff = set(allsystems) - set(systems)\n",
    "diff"
   ]
  },
  {
   "cell_type": "code",
   "execution_count": 7,
   "metadata": {},
   "outputs": [
    {
     "data": {
      "text/plain": [
       "27"
      ]
     },
     "execution_count": 7,
     "metadata": {},
     "output_type": "execute_result"
    }
   ],
   "source": [
    "len(diff)"
   ]
  },
  {
   "cell_type": "markdown",
   "metadata": {},
   "source": [
    "In order to look at the systems that have RMSD-related problems, we can load the systems already identified in `invalid.lst`"
   ]
  },
  {
   "cell_type": "code",
   "execution_count": 8,
   "metadata": {},
   "outputs": [
    {
     "data": {
      "text/plain": [
       "{('ACES', '1ACJ', '1JJB'),\n",
       " ('ACES', '1ZGB', '1JJB'),\n",
       " ('ACES', '2CMF', '1JJB'),\n",
       " ('CDK2', '3IG7', '3QQJ'),\n",
       " ('IGF1R', '1JQH', '5FXR'),\n",
       " ('IGF1R', '2OJ9', '5FXR'),\n",
       " ('IGF1R', '2ZM3', '5FXR'),\n",
       " ('IGF1R', '3LVP', '5FXR'),\n",
       " ('IGF1R', '3NW6', '5FXR'),\n",
       " ('IGF1R', '3NW7', '5FXR'),\n",
       " ('JAK2', '4D0W', '4F08'),\n",
       " ('JAK2', '4E4M', '4F08'),\n",
       " ('JAK2', '5CF6', '4F08'),\n",
       " ('MK01', '4FV2', '4GSB'),\n",
       " ('MK01', '4ZZM', '4GSB'),\n",
       " ('MK01', '5LCJ', '4GSB'),\n",
       " ('MK01', '5NHV', '4GSB'),\n",
       " ('MK10', '2G01', '1UKI'),\n",
       " ('MK10', '3ELJ', '1UKI'),\n",
       " ('MK10', '3RTP', '1UKI'),\n",
       " ('MK10', '4L7F', '4HYS'),\n",
       " ('SRC', '3DQX', '3UQG'),\n",
       " ('SRC', '5D10', '3UQG'),\n",
       " ('SRC', '5J5S', '3UQG')}"
      ]
     },
     "execution_count": 8,
     "metadata": {},
     "output_type": "execute_result"
    }
   ],
   "source": [
    "invalid = []\n",
    "with open(\"invalid.lst\", \"r\") as f:\n",
    "    for line in f:\n",
    "        l = line.strip().split()\n",
    "        # Invalid list contains systems as [pocket, protein, ligand]\n",
    "        # Here we are using [pocket, ligand, protein]\n",
    "        invalid.append((l[0], l[2], l[1]))\n",
    "invalid = set(invalid)\n",
    "assert len(invalid) == 24 # 24 systems without flexible residues\n",
    "invalid"
   ]
  },
  {
   "cell_type": "code",
   "execution_count": 9,
   "metadata": {},
   "outputs": [],
   "source": [
    "def show_system(t):\n",
    "    return df[(df.pocket == t[0]) & (df.ligand == t[1]) & (df.protein == t[2])]"
   ]
  },
  {
   "cell_type": "code",
   "execution_count": 10,
   "metadata": {},
   "outputs": [
    {
     "data": {
      "text/plain": [
       "{('HXK4', '3S41', '4DCH'), ('HXK4', '4NO7', '4DCH'), ('MET', '5HOA', '3CCN')}"
      ]
     },
     "execution_count": 10,
     "metadata": {},
     "output_type": "execute_result"
    }
   ],
   "source": [
    "set(allsystems) - set(systems) - invalid"
   ]
  },
  {
   "cell_type": "markdown",
   "metadata": {},
   "source": [
    "If we look at one of the systems that were in the `invalid.lst` we can see that the problem is that there are no flexible residues (for which the RMSD is `NaN`):"
   ]
  },
  {
   "cell_type": "code",
   "execution_count": 11,
   "metadata": {},
   "outputs": [
    {
     "data": {
      "text/html": [
       "<div>\n",
       "<style scoped>\n",
       "    .dataframe tbody tr th:only-of-type {\n",
       "        vertical-align: middle;\n",
       "    }\n",
       "\n",
       "    .dataframe tbody tr th {\n",
       "        vertical-align: top;\n",
       "    }\n",
       "\n",
       "    .dataframe thead th {\n",
       "        text-align: right;\n",
       "    }\n",
       "</style>\n",
       "<table border=\"1\" class=\"dataframe\">\n",
       "  <thead>\n",
       "    <tr style=\"text-align: right;\">\n",
       "      <th></th>\n",
       "      <th>pocket</th>\n",
       "      <th>protein</th>\n",
       "      <th>ligand</th>\n",
       "      <th>rank</th>\n",
       "      <th>rmsd</th>\n",
       "      <th>obrmsd</th>\n",
       "      <th>flexrmsd</th>\n",
       "      <th>fmaxrmsd</th>\n",
       "      <th>score</th>\n",
       "    </tr>\n",
       "  </thead>\n",
       "  <tbody>\n",
       "    <tr>\n",
       "      <th>29482</th>\n",
       "      <td>CDK2</td>\n",
       "      <td>3QQJ</td>\n",
       "      <td>3IG7</td>\n",
       "      <td>0</td>\n",
       "      <td>2.48215</td>\n",
       "      <td>2.48215</td>\n",
       "      <td>NaN</td>\n",
       "      <td>NaN</td>\n",
       "      <td>-8.0795</td>\n",
       "    </tr>\n",
       "  </tbody>\n",
       "</table>\n",
       "</div>"
      ],
      "text/plain": [
       "      pocket protein ligand  rank     rmsd   obrmsd  flexrmsd  fmaxrmsd  \\\n",
       "29482   CDK2    3QQJ   3IG7     0  2.48215  2.48215       NaN       NaN   \n",
       "\n",
       "        score  \n",
       "29482 -8.0795  "
      ]
     },
     "execution_count": 11,
     "metadata": {},
     "output_type": "execute_result"
    }
   ],
   "source": [
    "show_system(('CDK2', '3IG7', '3QQJ'))"
   ]
  },
  {
   "cell_type": "markdown",
   "metadata": {},
   "source": [
    "For some systems not in the original `invalid.lst` list, only the flexible residue RMSD computed with `spyrmsd` is `NaN`. This is due to `spyrmsd` being killed after a while for large systems:"
   ]
  },
  {
   "cell_type": "code",
   "execution_count": 12,
   "metadata": {},
   "outputs": [
    {
     "data": {
      "text/html": [
       "<div>\n",
       "<style scoped>\n",
       "    .dataframe tbody tr th:only-of-type {\n",
       "        vertical-align: middle;\n",
       "    }\n",
       "\n",
       "    .dataframe tbody tr th {\n",
       "        vertical-align: top;\n",
       "    }\n",
       "\n",
       "    .dataframe thead th {\n",
       "        text-align: right;\n",
       "    }\n",
       "</style>\n",
       "<table border=\"1\" class=\"dataframe\">\n",
       "  <thead>\n",
       "    <tr style=\"text-align: right;\">\n",
       "      <th></th>\n",
       "      <th>pocket</th>\n",
       "      <th>protein</th>\n",
       "      <th>ligand</th>\n",
       "      <th>rank</th>\n",
       "      <th>rmsd</th>\n",
       "      <th>obrmsd</th>\n",
       "      <th>flexrmsd</th>\n",
       "      <th>fmaxrmsd</th>\n",
       "      <th>score</th>\n",
       "    </tr>\n",
       "  </thead>\n",
       "  <tbody>\n",
       "    <tr>\n",
       "      <th>78236</th>\n",
       "      <td>HXK4</td>\n",
       "      <td>4DCH</td>\n",
       "      <td>3S41</td>\n",
       "      <td>0</td>\n",
       "      <td>1.40188</td>\n",
       "      <td>1.40188</td>\n",
       "      <td>NaN</td>\n",
       "      <td>NaN</td>\n",
       "      <td>-3.88321</td>\n",
       "    </tr>\n",
       "    <tr>\n",
       "      <th>78237</th>\n",
       "      <td>HXK4</td>\n",
       "      <td>4DCH</td>\n",
       "      <td>3S41</td>\n",
       "      <td>10</td>\n",
       "      <td>9.05919</td>\n",
       "      <td>9.05919</td>\n",
       "      <td>NaN</td>\n",
       "      <td>NaN</td>\n",
       "      <td>-8.54325</td>\n",
       "    </tr>\n",
       "    <tr>\n",
       "      <th>78238</th>\n",
       "      <td>HXK4</td>\n",
       "      <td>4DCH</td>\n",
       "      <td>3S41</td>\n",
       "      <td>11</td>\n",
       "      <td>8.11876</td>\n",
       "      <td>8.11876</td>\n",
       "      <td>NaN</td>\n",
       "      <td>NaN</td>\n",
       "      <td>-8.21540</td>\n",
       "    </tr>\n",
       "    <tr>\n",
       "      <th>78239</th>\n",
       "      <td>HXK4</td>\n",
       "      <td>4DCH</td>\n",
       "      <td>3S41</td>\n",
       "      <td>12</td>\n",
       "      <td>7.31299</td>\n",
       "      <td>7.31299</td>\n",
       "      <td>NaN</td>\n",
       "      <td>NaN</td>\n",
       "      <td>-8.18070</td>\n",
       "    </tr>\n",
       "    <tr>\n",
       "      <th>78240</th>\n",
       "      <td>HXK4</td>\n",
       "      <td>4DCH</td>\n",
       "      <td>3S41</td>\n",
       "      <td>13</td>\n",
       "      <td>7.91945</td>\n",
       "      <td>7.91945</td>\n",
       "      <td>NaN</td>\n",
       "      <td>NaN</td>\n",
       "      <td>-8.08570</td>\n",
       "    </tr>\n",
       "    <tr>\n",
       "      <th>78241</th>\n",
       "      <td>HXK4</td>\n",
       "      <td>4DCH</td>\n",
       "      <td>3S41</td>\n",
       "      <td>14</td>\n",
       "      <td>6.94460</td>\n",
       "      <td>6.94460</td>\n",
       "      <td>NaN</td>\n",
       "      <td>NaN</td>\n",
       "      <td>-8.02355</td>\n",
       "    </tr>\n",
       "    <tr>\n",
       "      <th>78242</th>\n",
       "      <td>HXK4</td>\n",
       "      <td>4DCH</td>\n",
       "      <td>3S41</td>\n",
       "      <td>15</td>\n",
       "      <td>8.87998</td>\n",
       "      <td>8.87998</td>\n",
       "      <td>NaN</td>\n",
       "      <td>NaN</td>\n",
       "      <td>-7.98356</td>\n",
       "    </tr>\n",
       "    <tr>\n",
       "      <th>78243</th>\n",
       "      <td>HXK4</td>\n",
       "      <td>4DCH</td>\n",
       "      <td>3S41</td>\n",
       "      <td>16</td>\n",
       "      <td>9.14961</td>\n",
       "      <td>9.14961</td>\n",
       "      <td>NaN</td>\n",
       "      <td>NaN</td>\n",
       "      <td>-7.91726</td>\n",
       "    </tr>\n",
       "    <tr>\n",
       "      <th>78244</th>\n",
       "      <td>HXK4</td>\n",
       "      <td>4DCH</td>\n",
       "      <td>3S41</td>\n",
       "      <td>17</td>\n",
       "      <td>9.74881</td>\n",
       "      <td>9.74881</td>\n",
       "      <td>NaN</td>\n",
       "      <td>NaN</td>\n",
       "      <td>-7.81538</td>\n",
       "    </tr>\n",
       "    <tr>\n",
       "      <th>78245</th>\n",
       "      <td>HXK4</td>\n",
       "      <td>4DCH</td>\n",
       "      <td>3S41</td>\n",
       "      <td>18</td>\n",
       "      <td>9.43684</td>\n",
       "      <td>9.43684</td>\n",
       "      <td>NaN</td>\n",
       "      <td>NaN</td>\n",
       "      <td>-7.78488</td>\n",
       "    </tr>\n",
       "    <tr>\n",
       "      <th>78246</th>\n",
       "      <td>HXK4</td>\n",
       "      <td>4DCH</td>\n",
       "      <td>3S41</td>\n",
       "      <td>19</td>\n",
       "      <td>8.76851</td>\n",
       "      <td>8.76851</td>\n",
       "      <td>NaN</td>\n",
       "      <td>NaN</td>\n",
       "      <td>-7.71535</td>\n",
       "    </tr>\n",
       "    <tr>\n",
       "      <th>78247</th>\n",
       "      <td>HXK4</td>\n",
       "      <td>4DCH</td>\n",
       "      <td>3S41</td>\n",
       "      <td>1</td>\n",
       "      <td>6.40674</td>\n",
       "      <td>6.40674</td>\n",
       "      <td>NaN</td>\n",
       "      <td>NaN</td>\n",
       "      <td>-9.65559</td>\n",
       "    </tr>\n",
       "    <tr>\n",
       "      <th>78248</th>\n",
       "      <td>HXK4</td>\n",
       "      <td>4DCH</td>\n",
       "      <td>3S41</td>\n",
       "      <td>20</td>\n",
       "      <td>9.88261</td>\n",
       "      <td>9.88261</td>\n",
       "      <td>NaN</td>\n",
       "      <td>NaN</td>\n",
       "      <td>-7.68209</td>\n",
       "    </tr>\n",
       "    <tr>\n",
       "      <th>78249</th>\n",
       "      <td>HXK4</td>\n",
       "      <td>4DCH</td>\n",
       "      <td>3S41</td>\n",
       "      <td>2</td>\n",
       "      <td>6.93128</td>\n",
       "      <td>6.93128</td>\n",
       "      <td>NaN</td>\n",
       "      <td>NaN</td>\n",
       "      <td>-9.62302</td>\n",
       "    </tr>\n",
       "    <tr>\n",
       "      <th>78250</th>\n",
       "      <td>HXK4</td>\n",
       "      <td>4DCH</td>\n",
       "      <td>3S41</td>\n",
       "      <td>3</td>\n",
       "      <td>7.09202</td>\n",
       "      <td>7.09202</td>\n",
       "      <td>NaN</td>\n",
       "      <td>NaN</td>\n",
       "      <td>-9.57434</td>\n",
       "    </tr>\n",
       "    <tr>\n",
       "      <th>78251</th>\n",
       "      <td>HXK4</td>\n",
       "      <td>4DCH</td>\n",
       "      <td>3S41</td>\n",
       "      <td>4</td>\n",
       "      <td>9.02433</td>\n",
       "      <td>9.02433</td>\n",
       "      <td>NaN</td>\n",
       "      <td>NaN</td>\n",
       "      <td>-9.25303</td>\n",
       "    </tr>\n",
       "    <tr>\n",
       "      <th>78252</th>\n",
       "      <td>HXK4</td>\n",
       "      <td>4DCH</td>\n",
       "      <td>3S41</td>\n",
       "      <td>5</td>\n",
       "      <td>6.86186</td>\n",
       "      <td>6.86186</td>\n",
       "      <td>NaN</td>\n",
       "      <td>NaN</td>\n",
       "      <td>-9.06855</td>\n",
       "    </tr>\n",
       "    <tr>\n",
       "      <th>78253</th>\n",
       "      <td>HXK4</td>\n",
       "      <td>4DCH</td>\n",
       "      <td>3S41</td>\n",
       "      <td>6</td>\n",
       "      <td>7.14737</td>\n",
       "      <td>7.14737</td>\n",
       "      <td>NaN</td>\n",
       "      <td>NaN</td>\n",
       "      <td>-9.03414</td>\n",
       "    </tr>\n",
       "    <tr>\n",
       "      <th>78254</th>\n",
       "      <td>HXK4</td>\n",
       "      <td>4DCH</td>\n",
       "      <td>3S41</td>\n",
       "      <td>7</td>\n",
       "      <td>7.26625</td>\n",
       "      <td>7.26625</td>\n",
       "      <td>NaN</td>\n",
       "      <td>NaN</td>\n",
       "      <td>-8.83519</td>\n",
       "    </tr>\n",
       "    <tr>\n",
       "      <th>78255</th>\n",
       "      <td>HXK4</td>\n",
       "      <td>4DCH</td>\n",
       "      <td>3S41</td>\n",
       "      <td>8</td>\n",
       "      <td>7.34352</td>\n",
       "      <td>7.34352</td>\n",
       "      <td>NaN</td>\n",
       "      <td>NaN</td>\n",
       "      <td>-8.58831</td>\n",
       "    </tr>\n",
       "    <tr>\n",
       "      <th>78256</th>\n",
       "      <td>HXK4</td>\n",
       "      <td>4DCH</td>\n",
       "      <td>3S41</td>\n",
       "      <td>9</td>\n",
       "      <td>7.38628</td>\n",
       "      <td>7.38628</td>\n",
       "      <td>NaN</td>\n",
       "      <td>NaN</td>\n",
       "      <td>-8.57761</td>\n",
       "    </tr>\n",
       "  </tbody>\n",
       "</table>\n",
       "</div>"
      ],
      "text/plain": [
       "      pocket protein ligand  rank     rmsd   obrmsd  flexrmsd  fmaxrmsd  \\\n",
       "78236   HXK4    4DCH   3S41     0  1.40188  1.40188       NaN       NaN   \n",
       "78237   HXK4    4DCH   3S41    10  9.05919  9.05919       NaN       NaN   \n",
       "78238   HXK4    4DCH   3S41    11  8.11876  8.11876       NaN       NaN   \n",
       "78239   HXK4    4DCH   3S41    12  7.31299  7.31299       NaN       NaN   \n",
       "78240   HXK4    4DCH   3S41    13  7.91945  7.91945       NaN       NaN   \n",
       "78241   HXK4    4DCH   3S41    14  6.94460  6.94460       NaN       NaN   \n",
       "78242   HXK4    4DCH   3S41    15  8.87998  8.87998       NaN       NaN   \n",
       "78243   HXK4    4DCH   3S41    16  9.14961  9.14961       NaN       NaN   \n",
       "78244   HXK4    4DCH   3S41    17  9.74881  9.74881       NaN       NaN   \n",
       "78245   HXK4    4DCH   3S41    18  9.43684  9.43684       NaN       NaN   \n",
       "78246   HXK4    4DCH   3S41    19  8.76851  8.76851       NaN       NaN   \n",
       "78247   HXK4    4DCH   3S41     1  6.40674  6.40674       NaN       NaN   \n",
       "78248   HXK4    4DCH   3S41    20  9.88261  9.88261       NaN       NaN   \n",
       "78249   HXK4    4DCH   3S41     2  6.93128  6.93128       NaN       NaN   \n",
       "78250   HXK4    4DCH   3S41     3  7.09202  7.09202       NaN       NaN   \n",
       "78251   HXK4    4DCH   3S41     4  9.02433  9.02433       NaN       NaN   \n",
       "78252   HXK4    4DCH   3S41     5  6.86186  6.86186       NaN       NaN   \n",
       "78253   HXK4    4DCH   3S41     6  7.14737  7.14737       NaN       NaN   \n",
       "78254   HXK4    4DCH   3S41     7  7.26625  7.26625       NaN       NaN   \n",
       "78255   HXK4    4DCH   3S41     8  7.34352  7.34352       NaN       NaN   \n",
       "78256   HXK4    4DCH   3S41     9  7.38628  7.38628       NaN       NaN   \n",
       "\n",
       "         score  \n",
       "78236 -3.88321  \n",
       "78237 -8.54325  \n",
       "78238 -8.21540  \n",
       "78239 -8.18070  \n",
       "78240 -8.08570  \n",
       "78241 -8.02355  \n",
       "78242 -7.98356  \n",
       "78243 -7.91726  \n",
       "78244 -7.81538  \n",
       "78245 -7.78488  \n",
       "78246 -7.71535  \n",
       "78247 -9.65559  \n",
       "78248 -7.68209  \n",
       "78249 -9.62302  \n",
       "78250 -9.57434  \n",
       "78251 -9.25303  \n",
       "78252 -9.06855  \n",
       "78253 -9.03414  \n",
       "78254 -8.83519  \n",
       "78255 -8.58831  \n",
       "78256 -8.57761  "
      ]
     },
     "execution_count": 12,
     "metadata": {},
     "output_type": "execute_result"
    }
   ],
   "source": [
    "# flexobrmsd is non-null while flexrmsd is NaN\n",
    "# For some (large) systems, spyrmsd process is killed after a while...\n",
    "# Use flexobrmsd only\n",
    "show_system(('HXK4', '3S41', '4DCH'))"
   ]
  },
  {
   "cell_type": "code",
   "execution_count": 13,
   "metadata": {},
   "outputs": [],
   "source": [
    "# Remove all infinity values (if any)\n",
    "df_clean = df.replace([np.inf, -np.inf], np.nan)\n",
    "df_clean.dropna(inplace=True)"
   ]
  },
  {
   "cell_type": "markdown",
   "metadata": {},
   "source": [
    "Remove the following systems manually because identified as problematic (broken disulfide bonds, added spurious bonds, ...) when computing target-pose RMSD:"
   ]
  },
  {
   "cell_type": "code",
   "execution_count": 14,
   "metadata": {},
   "outputs": [
    {
     "name": "stdout",
     "output_type": "stream",
     "text": [
      "('CP2C9', '1R9O', '5W0C')\n",
      "('FA10', '2XBV', '2FZZ')\n",
      "('FA10', '1IQE', '2RA0')\n",
      "('FA10', '2XBV', '2Y82')\n",
      "('FA10', '1IQE', '3KQB')\n",
      "('KIF11', '4BXN', '1X88')\n",
      "('KIF11', '4BXN', '2IEH')\n",
      "('KIF11', '4BXN', '2X7D')\n",
      "('KIF11', '4BXN', '3K3B')\n"
     ]
    }
   ],
   "source": [
    "def sysdrop(df, tp):\n",
    "    pocket, protein, ligand = tp\n",
    "    return df[~((df.pocket == pocket) & (df.protein == protein) & (df.ligand == ligand))]\n",
    "\n",
    "to_drop = [\n",
    "    ('CP2C9','1R9O','5W0C'),\n",
    "    ('FA10', '2XBV', '2FZZ'),\n",
    "    ('FA10', '1IQE', '2RA0'),\n",
    "    ('FA10', '2XBV', '2Y82'),\n",
    "    ('FA10', '1IQE', '3KQB'),\n",
    "    ('KIF11', '4BXN', '1X88'),\n",
    "    ('KIF11', '4BXN', '2IEH'),\n",
    "    ('KIF11', '4BXN', '2X7D'),\n",
    "    ('KIF11', '4BXN', '3K3B')\n",
    "]\n",
    "\n",
    "for d in to_drop:\n",
    "    print(d)\n",
    "    df_clean = sysdrop(df_clean, d)"
   ]
  },
  {
   "cell_type": "code",
   "execution_count": 15,
   "metadata": {},
   "outputs": [
    {
     "data": {
      "text/plain": [
       "7934"
      ]
     },
     "execution_count": 15,
     "metadata": {},
     "output_type": "execute_result"
    }
   ],
   "source": [
    "systems = pd.unique(df_clean[[\"pocket\", \"ligand\", \"protein\"]].apply(tuple,axis=\"columns\"))\n",
    "len(systems)"
   ]
  },
  {
   "cell_type": "code",
   "execution_count": 16,
   "metadata": {},
   "outputs": [],
   "source": [
    "df_clean.to_csv(\"rmsd2_clean.csv\", float_format=\"%.5f\", index=False)"
   ]
  }
 ],
 "metadata": {
  "interpreter": {
   "hash": "dd8f885256c26f3c42ca868e25def4f74b9e8cb2d0b2e84046ff8b1b0aad5f51"
  },
  "kernelspec": {
   "display_name": "Python 3 (ipykernel)",
   "language": "python",
   "name": "python3"
  },
  "language_info": {
   "codemirror_mode": {
    "name": "ipython",
    "version": 3
   },
   "file_extension": ".py",
   "mimetype": "text/x-python",
   "name": "python",
   "nbconvert_exporter": "python",
   "pygments_lexer": "ipython3",
   "version": "3.8.12"
  }
 },
 "nbformat": 4,
 "nbformat_minor": 2
}
