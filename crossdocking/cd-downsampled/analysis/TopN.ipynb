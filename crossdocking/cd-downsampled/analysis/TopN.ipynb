{
 "cells": [
  {
   "cell_type": "code",
   "execution_count": null,
   "metadata": {},
   "outputs": [],
   "source": [
    "import pandas as pd\n",
    "import numpy as np\n",
    "\n",
    "import seaborn as sns\n",
    "from matplotlib import pyplot as plt"
   ]
  },
  {
   "cell_type": "code",
   "execution_count": null,
   "metadata": {},
   "outputs": [],
   "source": [
    "annotation=\"flex\""
   ]
  },
  {
   "cell_type": "code",
   "execution_count": null,
   "metadata": {},
   "outputs": [],
   "source": [
    "# There is no difference in *cluster_annotated.csv and *nc_annotated.csv files!\n",
    "df = pd.read_csv(f\"{annotation}nc_annotated.csv\")\n",
    "df"
   ]
  },
  {
   "cell_type": "code",
   "execution_count": null,
   "metadata": {},
   "outputs": [],
   "source": [
    "def load_scores(df, model, annotation, prefix):\n",
    "\n",
    "    tfname = annotation if annotation else \"ligand\"\n",
    "\n",
    "    print(tfname, model, prefix)\n",
    "\n",
    "\n",
    "    score = pd.concat((\n",
    "    pd.read_csv(f\"../training/{tfname}/{model}/{annotation}{prefix}test0.out\", sep=\" \", header=None),\n",
    "    pd.read_csv(f\"../training/{tfname}/{model}/{annotation}{prefix}test1.out\", sep=\" \", header=None),\n",
    "    pd.read_csv(f\"../training/{tfname}/{model}/{annotation}{prefix}test2.out\", sep=\" \", header=None),\n",
    "    ))\n",
    "\n",
    "    if prefix == \"nc\":\n",
    "        # No affinity column\n",
    "        to_drop = [1,2,3,5,6,7]\n",
    "    elif prefix == \"cluster\":\n",
    "        to_drop = [1,2,3,4,6,7,8]\n",
    "\n",
    "    score.drop(columns=to_drop, inplace=True)\n",
    "    # Rename either column 4 (no clustering) or 5 (clustering) as ligand name\n",
    "    # The shift between the two cases is given by the \n",
    "    score.rename(columns={0: \"CNNscore\", 4: \"ligname\", 5: \"ligname\"}, inplace=True)\n",
    "    score.dropna(inplace=True) # Last row contains NaN (it is  actually a comment)\n",
    "\n",
    "    def getid(row):\n",
    "        namesplit = row[\"ligname\"].split(\"/\")\n",
    "\n",
    "        pocket = namesplit[1]\n",
    "\n",
    "        split = namesplit[-1].split(\"_\")\n",
    "\n",
    "        protein = split[0]\n",
    "        ligand = split[2]\n",
    "\n",
    "        rank = int(split[-1][1:].replace(\".gninatypes\", \"\"))\n",
    "\n",
    "        return (pocket, protein, ligand, rank)\n",
    "\n",
    "    score[[\"pocket\", \"protein\", \"ligand\", \"rank\"]] = score.apply(getid, axis=1, result_type=\"expand\")\n",
    "    score.drop(columns=\"ligname\", inplace=True)\n",
    "\n",
    "    df_score = df.merge(score, on=[\"pocket\", \"protein\", \"ligand\", \"rank\"])\n",
    "\n",
    "    return df_score"
   ]
  },
  {
   "cell_type": "code",
   "execution_count": null,
   "metadata": {},
   "outputs": [],
   "source": [
    "def topN(df, nmax):\n",
    "\n",
    "    n_pockets = 0\n",
    "    \n",
    "    # Store top N metrics\n",
    "    top_smina = [0] * nmax\n",
    "    top_gnina = [0] * nmax\n",
    "    top_best = [0] * nmax\n",
    "\n",
    "    # Loop over pockets\n",
    "    for _, group in df.groupby(by=[\"pocket\"]):\n",
    "        n_smina = [0] * nmax\n",
    "        n_gnina = [0] * nmax\n",
    "        n_best = [0] * nmax\n",
    "\n",
    "        # Compute percentage of targets with good pose in top N\n",
    "        n_targets = 0\n",
    "        for _, tgroup in group.groupby(\"protein\"):\n",
    "            smina = tgroup.sort_values(by=\"score\", ascending=True)\n",
    "            gnina = tgroup.sort_values(by=\"CNNscore\", ascending=False)\n",
    "            best = tgroup.sort_values(by=\"rmsd\", ascending=True)\n",
    "\n",
    "            for n in range(1, nmax + 1):\n",
    "                # At least one good pose amongst the top N\n",
    "                if (smina[\"annotation\"].iloc[:n] == 1).any():\n",
    "                    n_smina[n-1] += 1\n",
    "\n",
    "                if (gnina[\"annotation\"].iloc[:n] == 1).any():\n",
    "                    n_gnina[n-1] += 1\n",
    "                \n",
    "                if (best[\"annotation\"].iloc[:n] == 1).any():\n",
    "                    n_best[n-1] += 1\n",
    "\n",
    "            n_targets += 1\n",
    "\n",
    "        # Accumulate results for all targets\n",
    "        for n in range(1, nmax + 1):\n",
    "            top_smina[n-1] += n_smina[n-1] / n_targets * 100\n",
    "            top_gnina[n-1] += n_gnina[n-1]  / n_targets * 100\n",
    "            top_best[n-1] += n_best[n-1]  / n_targets * 100\n",
    "\n",
    "        n_pockets += 1\n",
    "\n",
    "    # One pocket has been removed from the training set\n",
    "    # for lack of actives\n",
    "    assert n_pockets == 91\n",
    "\n",
    "    # Return TopN of targets, averaged per pocket\n",
    "    top_smina_avg = np.array(top_smina) / n_pockets\n",
    "    top_gnina_avg = np.array(top_gnina) / n_pockets\n",
    "    top_best_avg =  np.array(top_best) / n_pockets\n",
    "    return np.array([list(range(1,nmax+1)), top_smina_avg, top_gnina_avg, top_best_avg]).T"
   ]
  },
  {
   "cell_type": "code",
   "execution_count": null,
   "metadata": {},
   "outputs": [],
   "source": [
    "nmax = 10"
   ]
  },
  {
   "cell_type": "code",
   "execution_count": null,
   "metadata": {},
   "outputs": [],
   "source": [
    "for model in [\"default2017\", \"default2018\", \"dense\"]:\n",
    "    for prefix in [\"cluster\", \"nc\"]:\n",
    "        if prefix == \"nc\":\n",
    "            modelname = f\"{model}-noaffinity-nostratified\"\n",
    "        elif prefix == \"cluster\":\n",
    "            modelname = f\"{model}-noaffinity\"\n",
    "\n",
    "        df_score = load_scores(df, modelname, annotation, prefix)\n",
    "\n",
    "        for crystal in [\"\", \"nocrystal_\"]:\n",
    "            if crystal == \"\":\n",
    "                t  = topN(df_score, nmax)\n",
    "            elif crystal == \"nocrystal_\":\n",
    "                # Remove crystal\n",
    "                t = topN(df_score[df_score[\"rank\"] != 0], nmax)\n",
    "            else:\n",
    "                raise Exception\n",
    "\n",
    "            df_top = pd.DataFrame(t, columns=[\"N\", \"smina\", \"gnina\", \"best\"])\n",
    "            df_top[\"annotation\"] = annotation\n",
    "            df_top[\"prefix\"] = prefix\n",
    "            df_top[\"model\"] = model\n",
    "            df_top.to_csv(f\"TopN/{crystal}{modelname}_{annotation}{prefix}.csv\", index=None)"
   ]
  },
  {
   "cell_type": "code",
   "execution_count": null,
   "metadata": {},
   "outputs": [],
   "source": [
    "crystal_nostratified = pd.concat(\n",
    "    (\n",
    "        pd.read_csv(f\"TopN/default2017-noaffinity-nostratified_{annotation}{prefix}.csv\",index_col=0).rename(columns={\"gnina\": \"default2017\"}),\n",
    "        pd.read_csv(f\"TopN/default2018-noaffinity-nostratified_{annotation}{prefix}.csv\",index_col=0).drop(columns=[\"smina\", \"best\"]).rename(columns={\"gnina\": \"default2018\"}),\n",
    "        pd.read_csv(f\"TopN/dense-noaffinity-nostratified_{annotation}{prefix}.csv\",index_col=0).drop(columns=[\"smina\", \"best\"]).rename(columns={\"gnina\": \"dense\"}),\n",
    "    ),\n",
    "    axis=1,\n",
    ")\n",
    "crystal_nostratified"
   ]
  },
  {
   "cell_type": "code",
   "execution_count": null,
   "metadata": {},
   "outputs": [],
   "source": [
    "sns.lineplot(data=crystal_nostratified)\n",
    "plt.ylabel(\"TopN (%)\")\n",
    "plt.savefig(f\"plots/TopN-crystal-nostratified-{annotation}.pdf\")\n",
    "plt.savefig(f\"plots/TopN-crystal-nostratified-{annotation}.png\")"
   ]
  },
  {
   "cell_type": "code",
   "execution_count": null,
   "metadata": {},
   "outputs": [],
   "source": [
    "crystal_stratified = pd.concat(\n",
    "    (\n",
    "        pd.read_csv(f\"TopN/default2017-noaffinity_{annotation}{prefix}.csv\",index_col=0).rename(columns={\"gnina\": \"default2017\"}),\n",
    "        pd.read_csv(f\"TopN/default2018-noaffinity_{annotation}{prefix}.csv\",index_col=0).drop(columns=[\"smina\", \"best\"]).rename(columns={\"gnina\": \"default2018\"}),\n",
    "        pd.read_csv(f\"TopN/dense-noaffinity_{annotation}{prefix}.csv\",index_col=0).drop(columns=[\"smina\", \"best\"]).rename(columns={\"gnina\": \"dense\"}),\n",
    "    ),\n",
    "    axis=1,\n",
    ")\n",
    "crystal_stratified"
   ]
  },
  {
   "cell_type": "code",
   "execution_count": null,
   "metadata": {},
   "outputs": [],
   "source": [
    "sns.lineplot(data=crystal_stratified)\n",
    "plt.ylabel(\"TopN (%)\")\n",
    "plt.savefig(f\"plots/TopN-crystal-stratified-{annotation}.pdf\")\n",
    "plt.savefig(f\"plots/TopN-crystal-stratified-{annotation}.png\")"
   ]
  },
  {
   "cell_type": "code",
   "execution_count": null,
   "metadata": {},
   "outputs": [],
   "source": [
    "nocrystal_nostratified = pd.concat(\n",
    "    (\n",
    "        pd.read_csv(f\"TopN/nocrystal_default2017-noaffinity-nostratified_{annotation}{prefix}.csv\",index_col=0).rename(columns={\"gnina\": \"default2017\"}),\n",
    "        pd.read_csv(f\"TopN/nocrystal_default2018-noaffinity-nostratified_{annotation}{prefix}.csv\",index_col=0).drop(columns=[\"smina\", \"best\"]).rename(columns={\"gnina\": \"default2018\"}),\n",
    "        pd.read_csv(f\"TopN/nocrystal_dense-noaffinity-nostratified_{annotation}{prefix}.csv\",index_col=0).drop(columns=[\"smina\", \"best\"]).rename(columns={\"gnina\": \"dense\"}),\n",
    "    ),\n",
    "    axis=1,\n",
    ")\n",
    "nocrystal_nostratified"
   ]
  },
  {
   "cell_type": "code",
   "execution_count": null,
   "metadata": {},
   "outputs": [],
   "source": [
    "sns.lineplot(data=nocrystal_nostratified)\n",
    "plt.ylabel(\"TopN (%)\")\n",
    "plt.savefig(f\"plots/TopN-nocrystal-nostratified-{annotation}.pdf\")\n",
    "plt.savefig(f\"plots/TopN-nocrystal-nostratified-{annotation}.png\")"
   ]
  },
  {
   "cell_type": "code",
   "execution_count": null,
   "metadata": {},
   "outputs": [],
   "source": [
    "nocrystal_stratified = pd.concat(\n",
    "    (\n",
    "        pd.read_csv(f\"TopN/nocrystal_default2017-noaffinity_{annotation}{prefix}.csv\",index_col=0).rename(columns={\"gnina\": \"default2017\"}),\n",
    "        pd.read_csv(f\"TopN/nocrystal_default2018-noaffinity_{annotation}{prefix}.csv\",index_col=0).drop(columns=[\"smina\", \"best\"]).rename(columns={\"gnina\": \"default2018\"}),\n",
    "        pd.read_csv(f\"TopN/nocrystal_dense-noaffinity_{annotation}{prefix}.csv\",index_col=0).drop(columns=[\"smina\", \"best\"]).rename(columns={\"gnina\": \"dense\"}),\n",
    "    ),\n",
    "    axis=1,\n",
    ")\n",
    "nocrystal_stratified"
   ]
  },
  {
   "cell_type": "code",
   "execution_count": null,
   "metadata": {},
   "outputs": [],
   "source": [
    "sns.lineplot(data=nocrystal_stratified)\n",
    "plt.ylabel(\"TopN (%)\")\n",
    "plt.savefig(f\"plots/TopN-nocrystal-stratified-{annotation}.pdf\")\n",
    "plt.savefig(f\"plots/TopN-nocrystal-stratified-{annotation}.png\")"
   ]
  }
 ],
 "metadata": {
  "interpreter": {
   "hash": "bc9834bc302805b43f83a7189a214161751551b84b45274f3cffa7f738d223ec"
  },
  "kernelspec": {
   "display_name": "Python 3.6.13 64-bit ('gsoc': conda)",
   "name": "python3"
  },
  "language_info": {
   "codemirror_mode": {
    "name": "ipython",
    "version": 3
   },
   "file_extension": ".py",
   "mimetype": "text/x-python",
   "name": "python",
   "nbconvert_exporter": "python",
   "pygments_lexer": "ipython3",
   "version": "3.6.13"
  },
  "orig_nbformat": 4
 },
 "nbformat": 4,
 "nbformat_minor": 2
}
